{
 "cells": [
  {
   "cell_type": "code",
   "execution_count": null,
   "metadata": {},
   "outputs": [],
   "source": [
    "'''Evaulates the actor crtic model for the MovieLens reconmendation problem\n",
    "May god help us all'''"
   ]
  }
 ],
 "metadata": {
  "kernelspec": {
   "display_name": "Python 3.10.4 64-bit",
   "language": "python",
   "name": "python3"
  },
  "language_info": {
   "name": "python",
   "version": "3.10.4"
  },
  "orig_nbformat": 4,
  "vscode": {
   "interpreter": {
    "hash": "4118c70c9beb5e3830c651ce8f174574c1d89e60bd3c05a00cdbb14e8ed350df"
   }
  }
 },
 "nbformat": 4,
 "nbformat_minor": 2
}
