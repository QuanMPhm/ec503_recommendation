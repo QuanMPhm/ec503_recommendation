{
 "cells": [
  {
   "cell_type": "code",
   "execution_count": null,
   "metadata": {},
   "outputs": [],
   "source": [
    "'''Trains the actor-critic model used to solve the MovieLens reconmendation problem\n",
    "May god save us all'''\n",
    "\n",
    "import data_representation # functions for state representation\n",
    "import rewards # functions for rewards\n",
    "\n",
    "from Actor import Actor\n",
    "from Critic import Critic\n",
    "\n",
    "import numpy\n",
    "import tensorflow\n",
    "\n",
    "import tensorflow as tf2\n",
    "tf = tf2.compat.v1\n",
    "tf.disable_v2_behavior() # Compatibility bullshit"
   ]
  },
  {
   "cell_type": "code",
   "execution_count": null,
   "metadata": {},
   "outputs": [],
   "source": [
    "# Hyperparameters\n",
    "# Hyperparameters\n",
    "history_length = 12 # N in article\n",
    "ra_length = 4 # K in article\n",
    "discount_factor = 0.99 # Gamma in Bellman equation\n",
    "actor_lr = 0.0001\n",
    "critic_lr = 0.001\n",
    "tau = 0.001 # τ in Algorithm 3\n",
    "batch_size = 64\n",
    "nb_episodes = 100\n",
    "nb_rounds = 50\n",
    "filename_summary = 'summary.txt'\n",
    "alpha = 0.5 # α (alpha) in Equation (1)\n",
    "gamma = 0.9 # Γ (Gamma) in Equation (4)\n",
    "buffer_size = 1000000 # Size of replay memory D in article\n",
    "fixed_length = True # Fixed memory length"
   ]
  },
  {
   "cell_type": "code",
   "execution_count": null,
   "metadata": {},
   "outputs": [],
   "source": [
    "# Intialize Actor and Critic model\n",
    "actor = Actor()\n",
    "critic = Critic()"
   ]
  }
 ],
 "metadata": {
  "kernelspec": {
   "display_name": "Python 3.10.4 64-bit",
   "language": "python",
   "name": "python3"
  },
  "language_info": {
   "name": "python",
   "version": "3.10.4"
  },
  "orig_nbformat": 4,
  "vscode": {
   "interpreter": {
    "hash": "4118c70c9beb5e3830c651ce8f174574c1d89e60bd3c05a00cdbb14e8ed350df"
   }
  }
 },
 "nbformat": 4,
 "nbformat_minor": 2
}
